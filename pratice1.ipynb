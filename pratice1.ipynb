{
  "nbformat": 4,
  "nbformat_minor": 0,
  "metadata": {
    "colab": {
      "provenance": [],
      "authorship_tag": "ABX9TyPk4f/JwUqrJ/DA+b8OgaHK",
      "include_colab_link": true
    },
    "kernelspec": {
      "name": "python3",
      "display_name": "Python 3"
    },
    "language_info": {
      "name": "python"
    }
  },
  "cells": [
    {
      "cell_type": "markdown",
      "metadata": {
        "id": "view-in-github",
        "colab_type": "text"
      },
      "source": [
        "<a href=\"https://colab.research.google.com/github/Shiyam0906/Data-analytics-/blob/main/pratice1.ipynb\" target=\"_parent\"><img src=\"https://colab.research.google.com/assets/colab-badge.svg\" alt=\"Open In Colab\"/></a>"
      ]
    },
    {
      "cell_type": "code",
      "source": [
        "import numpy as np\n",
        "import pandas as pd\n",
        "import matplotlib.pyplot as plt\n",
        "import seaborn as sns"
      ],
      "metadata": {
        "id": "sNIoxF6x5B1w"
      },
      "execution_count": null,
      "outputs": []
    },
    {
      "cell_type": "code",
      "source": [
        "Pizza_size=[[2],[2.5],[3],[3.5],[4],[4.5],[5],[5.5],[6],[6.5],[7],[7.5],[8]]\n",
        "Price=[[75],[100],[125],[150],[175],[200],[225],[250],[275],[300],[325],[350],[375]]\n",
        "     "
      ],
      "metadata": {
        "id": "MU1AnkV15EbZ"
      },
      "execution_count": null,
      "outputs": []
    },
    {
      "cell_type": "code",
      "source": [
        "from sklearn.linear_model import LinearRegression\n",
        "model=LinearRegression()\n",
        "model.fit(Pizza_size,Price)"
      ],
      "metadata": {
        "id": "hbLZDUHW5Ed_"
      },
      "execution_count": null,
      "outputs": []
    },
    {
      "cell_type": "code",
      "source": [
        "model.predict([[6]])"
      ],
      "metadata": {
        "id": "aZIaUs3G5Egv"
      },
      "execution_count": null,
      "outputs": []
    },
    {
      "cell_type": "code",
      "source": [
        "array([[275.32967033]])"
      ],
      "metadata": {
        "id": "KkDBqV1v5Lz_"
      },
      "execution_count": null,
      "outputs": []
    }
  ]
}